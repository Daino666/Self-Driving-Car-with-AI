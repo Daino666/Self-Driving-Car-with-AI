{
 "cells": [
  {
   "cell_type": "code",
   "execution_count": 319,
   "id": "830cf0e4-3e24-4313-813f-b8393be06b81",
   "metadata": {},
   "outputs": [
    {
     "ename": "SyntaxError",
     "evalue": "invalid syntax (653899783.py, line 67)",
     "output_type": "error",
     "traceback": [
      "\u001b[0;36m  Cell \u001b[0;32mIn[319], line 67\u001b[0;36m\u001b[0m\n\u001b[0;31m    Sigmoid function = 1/(1+e^(-x))  wich x  = linear function\u001b[0m\n\u001b[0m            ^\u001b[0m\n\u001b[0;31mSyntaxError\u001b[0m\u001b[0;31m:\u001b[0m invalid syntax\n"
     ]
    }
   ],
   "source": [
    "import numpy as np \n",
    "import matplotlib.pyplot as plt\n",
    "\n",
    "\n",
    "def draw(x1, x2):\n",
    "\n",
    "    ln = plt.plot(x1,x2)\n",
    "\n",
    "def sigmoid(score):\n",
    "    return (1/(1+np.exp(-score)))\n",
    "\n",
    "def calc_error(Probability, Label):\n",
    "    n = len(Probability)\n",
    "\n",
    "    cross_entropy = (-1/n)*(np.log(Probability.T)*Label   + np.log(1-Probability.T)*(1-Label))\n",
    "    \n",
    "    return cross_entropy\n",
    "\n",
    "\n",
    "def gradient_descent(points, label, line_parameters, learning_rate):\n",
    "\n",
    "    n = points.shape[0]\n",
    "    for i in range(10000):\n",
    "        p = sigmoid(points*line_parameters)\n",
    "        gradient = (points.T * ( p - label)) * (learning_rate/n)\n",
    "        line_parameters -= gradient\n",
    "\n",
    "        w1 = line_parameters.item(0)\n",
    "        w2 = line_parameters.item(1)\n",
    "        b = line_parameters.item(2)\n",
    "\n",
    "        x1=np.array([points[:,0].min(), points[:,0].max()])\n",
    "        x2= -b/w2 + (x1*(-w1/w2))\n",
    "    \n",
    "    draw(x1,x2) \n",
    "\n",
    "    \n",
    "\n",
    "no_pts = 100\n",
    "np.random.seed(0)\n",
    "\n",
    "b = np.ones(no_pts)\n",
    "x1_group1_values = np.random.normal(10, 2, no_pts)\n",
    "x2_group1_values = np.random.normal(12, 3, no_pts)\n",
    "upper_region = np.array([x1_group1_values, x2_group1_values, b]).T\n",
    "\n",
    "x1_group2_values = np.random.normal(4, 2, no_pts)\n",
    "x2_group2_values = np.random.normal(5, 3, no_pts)\n",
    "lower_region = np.array([x1_group2_values,x2_group2_values, b]).T\n",
    "\n",
    "x1 = np.array([lower_region[:,0].min() , upper_region[:, 0].max()])\n",
    "x2= ((-x1*w1)-(bias))/w2\n",
    "\n",
    "\n",
    "\n",
    "all_points = np.vstack((upper_region,lower_region))\n",
    "\n",
    "line_parameters = np.matrix(np.zeros(3)).T\n",
    "\n",
    "score =all_points* line_parameters\n",
    "probabilites = sigmoid(score)\n",
    "\n",
    "\n",
    "labels = np.array([np.ones(no_pts), np.zeros(no_pts)]).reshape(no_pts*2,1)\n",
    "\n",
    "\n",
    "#Sigmoid function = 1/(1+e^(-x))  wich x  = linear function\n",
    "\n",
    "_, ax = plt.subplots(figsize=(4,4))\n",
    "ax.scatter(upper_region[:,0], upper_region[:, 1] , color = 'r')\n",
    "ax.scatter(lower_region[:,0], lower_region[:, 1], color ='g')\n",
    "\n",
    "gradient_descent(all_points, labels, line_parameters, .006)\n",
    "#the word \"color\" is essential for the function to work\n",
    "\n"
   ]
  },
  {
   "cell_type": "code",
   "execution_count": null,
   "id": "900bee94-c560-4711-97af-6d2567d82474",
   "metadata": {},
   "outputs": [],
   "source": []
  }
 ],
 "metadata": {
  "kernelspec": {
   "display_name": "Python 3 (ipykernel)",
   "language": "python",
   "name": "python3"
  },
  "language_info": {
   "codemirror_mode": {
    "name": "ipython",
    "version": 3
   },
   "file_extension": ".py",
   "mimetype": "text/x-python",
   "name": "python",
   "nbconvert_exporter": "python",
   "pygments_lexer": "ipython3",
   "version": "3.10.12"
  }
 },
 "nbformat": 4,
 "nbformat_minor": 5
}
